{
 "cells": [
  {
   "cell_type": "markdown",
   "metadata": {},
   "source": [
    "# Data 620 Project 1 Proposal"
   ]
  },
  {
   "cell_type": "markdown",
   "metadata": {},
   "source": [
    "### Baron Curtin, Heather Geiger"
   ]
  },
  {
   "cell_type": "markdown",
   "metadata": {},
   "source": [
    "## Dataset"
   ]
  },
  {
   "cell_type": "markdown",
   "metadata": {},
   "source": [
    "For this project, we will be using data containing the networks of 10 different Facebook users (aka the \"ego nodes\"). This data will be downloaded from the Stanford Large Network Dataset Collection. The dataset is available here: https://snap.stanford.edu/data/ego-Facebook.html.\n",
    "\n",
    "Here, each node ID represents a Facebook user.\n",
    "\n",
    "For each of the 10 different networks (denoted by the ID of the user at the center of the network), we have the following files:\n",
    "\n",
    "\\*.edges - Each line will have two columns. The node IDs in column 1 and column 2 are connected to each other and to the ego node.\n",
    "\n",
    "\\*.circles - Each line will have an ID column (i.e. circle0, circle1, and so on), followed by anywhere from one to 100+ additional columns. The circles represent groups of users. Each node ID in every field of every line is connected to the ego node.\n",
    "\n",
    "\\*.featnames - Gives more info about which feature corresponds to each feature column. For example, \"8 education;classes;id;anonymized feature 8\" means that column 9 of the features file (with 0-based indexing) corresponds to an anonymized feature related to education (specifically, classes taken). \n",
    "\n",
    "\\*.egofeat and \\*.feat - For each feature explained in featnames, give whether the feature is true or false in each user for the ego node and all other nodes respectively."
   ]
  },
  {
   "cell_type": "markdown",
   "metadata": {},
   "source": [
    "## Work completed so far and future directions"
   ]
  },
  {
   "cell_type": "markdown",
   "metadata": {},
   "source": [
    "So far, we have already visualized and calculated some summary statistics for 1/10 of the networks in this dataset. Specifically, the network centered around node 0.\n",
    "\n",
    "That previous analysis is located here: https://github.com/baroncurtin2/data620/blob/master/week3/week3_assignment.ipynb\n",
    "\n",
    "In this project, we plan to incorporate information from all 10 networks.\n",
    "\n",
    "We will calculate centrality similarly to how we did previously (just using a different function to calculate degree centrality, which we did not measure before).\n",
    "\n",
    "For our categorical groups, we will use the second gender feature in the dataset (anonymized feature 78). Based on the proportions of 0 vs. 1 we find for this feature across networks (around a 40/60 split), it seems reasonable that a 1 for this feature indicates either that the user is male or that the user is female, while a 0 indicates the opposite."
   ]
  },
  {
   "cell_type": "markdown",
   "metadata": {},
   "source": [
    "## Hypothesis about centrality between groups"
   ]
  },
  {
   "cell_type": "markdown",
   "metadata": {},
   "source": [
    "We do not think there is an obvious reason to believe that males and females should have significant differences in centrality in terms of their Facebook connections. The only reason that individuals with the gender feature set to 1 may have higher centrality could be that these individuals are more prevalent in the dataset. And I imagine that individuals on average might be more likely to be friends with those of the same gender. But I also wouldn't be super surprised if we do not find a significant difference."
   ]
  }
 ],
 "metadata": {
  "kernelspec": {
   "display_name": "Python 3",
   "language": "python",
   "name": "python3"
  },
  "language_info": {
   "codemirror_mode": {
    "name": "ipython",
    "version": 3
   },
   "file_extension": ".py",
   "mimetype": "text/x-python",
   "name": "python",
   "nbconvert_exporter": "python",
   "pygments_lexer": "ipython3",
   "version": "3.7.1"
  }
 },
 "nbformat": 4,
 "nbformat_minor": 2
}
